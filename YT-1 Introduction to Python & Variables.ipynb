{
 "cells": [
  {
   "cell_type": "markdown",
   "id": "ebb64288-f8a6-44cb-a225-03f0b41e502a",
   "metadata": {},
   "source": [
    "# Python Course"
   ]
  },
  {
   "cell_type": "markdown",
   "id": "660c06db-0a26-4eb2-bf85-4cffe17c777b",
   "metadata": {},
   "source": [
    "### Topics Covered in this Tutorial.\n",
    "\n",
    "You’ll learn about:\n",
    "\n",
    "1. Variables\n",
    "\n",
    "2. Data types (numbers, text, booleans)\n",
    "\n",
    "3. Comparisons\n",
    "\n",
    "4. Getting user input\n",
    "\n",
    "5. And finally — we’ll build your first simple Python bot!"
   ]
  },
  {
   "cell_type": "markdown",
   "id": "f8522e3f-3174-4e6f-a2db-efea50e80ceb",
   "metadata": {},
   "source": [
    "### Now, lets begin with understandign what is python?"
   ]
  },
  {
   "cell_type": "markdown",
   "id": "f967e86c-18f2-4acd-9d3b-3175f367150b",
   "metadata": {},
   "source": [
    "# Introduction to Python\n",
    "\n",
    "## Features of python:\n",
    "* Python is a programming language\n",
    "* High-level, Simple and General purpose language-Less development time\n",
    "* Used for software development\n",
    "* Used for web development\n",
    "* Used for maths\n",
    "* Open source\n",
    "* Dynamic nature\n",
    "* Object oriented programming\n",
    "\n",
    "## Why Learn Python?\n",
    "\n",
    "1. Easy to Learn: Python’s syntax is clean and straightforward, perfect for beginners.\n",
    "\n",
    "2. Versatile: You can build almost anything — from web applications, data analysis, artificial intelligence, automation scripts, games, and even robotics.\n",
    "\n",
    "3. Huge Community: Python has a massive global community, tons of libraries and frameworks, and plenty of tutorials and resources to help you learn.\n",
    "\n",
    "4. In-Demand Skill: Many tech companies use Python, and it’s one of the most sought-after programming languages in job markets.\n",
    "\n",
    "## Common Applications of Python\n",
    "\n",
    "1. Web Development: Frameworks like Django and Flask help build websites.\n",
    "2. Data Science & Machine Learning: Tools like Pandas, NumPy, and TensorFlow help analyze data and create AI models.\n",
    "3. Automation: Python scripts can automate repetitive tasks like file handling, web scraping, and more.\n",
    "4. Game Development: Libraries like Pygame let you create simple games.\n",
    "5. Embedded Systems & Robotics: Python can be used for hardware programming and robotics projects.\n",
    "\n",
    "\n",
    "\n",
    "### Compiler:\n",
    " * Converts high-level language to low-level-language\n",
    " \n",
    "### Interpreter:\n",
    "* High-level language to machine level language.\n",
    "  \n",
    "  Although similar to a compiler, the way that code is executed is different for both.\n",
    "  \n",
    "### Kaggel:\n",
    "* It is an online community of data scientists and machine learning practitioners.\n",
    "* Collection of datasets.\n",
    "* https://www.kaggle.com/datasets"
   ]
  },
  {
   "cell_type": "code",
   "execution_count": null,
   "id": "0c7435e3-a8b1-435c-98a8-ad2f55d07a78",
   "metadata": {},
   "outputs": [],
   "source": []
  },
  {
   "cell_type": "markdown",
   "id": "8908e1dd-4784-4a07-b139-2a7d97edb463",
   "metadata": {},
   "source": [
    "## Installation: \n",
    "* Python can be easily installed from python.org or from anaconda.com\n",
    "* When you click on the download button, python can be installed right after you completed setup."
   ]
  },
  {
   "cell_type": "markdown",
   "id": "86cb068e-c67b-466e-8cb9-05ecf4383a39",
   "metadata": {},
   "source": [
    "### Indentation:\n",
    "*  To specify the codes we use whitespace i.e spaces and tabs.\n",
    "* It improves the readablity of code"
   ]
  },
  {
   "cell_type": "markdown",
   "id": "19d0554a-5766-4419-90db-49f4b5c3476c",
   "metadata": {},
   "source": [
    "### Comments:\n",
    "* There are two different types of commenting in python\n",
    "   \n",
    "   * Single-line Commenting\n",
    "   \n",
    "   * Multi-line Commenting\n",
    "* To exaplian the code\n",
    "* To make it more readable\n",
    "* Used to prevent execution"
   ]
  },
  {
   "cell_type": "markdown",
   "id": "dffaa0ed-78a3-4c8c-9c4e-dde5810bf124",
   "metadata": {},
   "source": [
    "#print(\"Hello, World!\")\n",
    "print(\"Cheers, Mate!\")"
   ]
  },
  {
   "cell_type": "code",
   "execution_count": 2,
   "id": "ea750cb8-d4a0-4fac-8910-41bf16b2168d",
   "metadata": {},
   "outputs": [
    {
     "name": "stdout",
     "output_type": "stream",
     "text": [
      "Hello, World!\n"
     ]
    }
   ],
   "source": [
    "#This is a comment\n",
    "#written in\n",
    "#more than just one line\n",
    "print(\"Hello, World!\")"
   ]
  },
  {
   "cell_type": "code",
   "execution_count": 3,
   "id": "1861bfdc-6f0e-478b-8cea-0bf3ec196628",
   "metadata": {},
   "outputs": [
    {
     "name": "stdout",
     "output_type": "stream",
     "text": [
      "Hello, World!\n"
     ]
    }
   ],
   "source": [
    "\"\"\"\n",
    "This is a comment\n",
    "written in\n",
    "more than just one line\n",
    "\"\"\"\n",
    "print(\"Hello, World!\")"
   ]
  },
  {
   "cell_type": "code",
   "execution_count": null,
   "id": "160a6cca-fd24-4995-96be-150bcf083083",
   "metadata": {},
   "outputs": [],
   "source": []
  },
  {
   "cell_type": "markdown",
   "id": "5c99ca8e-aab0-4c00-864d-5680912aa691",
   "metadata": {},
   "source": [
    " # Variables"
   ]
  },
  {
   "cell_type": "markdown",
   "id": "c66c5f97-65d8-4d62-9b1d-461d3ce26508",
   "metadata": {},
   "source": [
    "\n",
    "-- Variables stores the data values\n",
    "1. Creating a variable\n",
    "2. Casting\n",
    "3. Type of variable\n",
    "4. Quotes-\" \",' '\n",
    "5. Case sensitive\n",
    "6. Variable names\n",
    "7. Assigning multiple values\n",
    "8. Output variables\n",
    "9. Global variable"
   ]
  },
  {
   "cell_type": "markdown",
   "id": "2d340176-5839-4f99-bcd7-3af9ac90394d",
   "metadata": {},
   "source": [
    "### 1. Creating a variable\n",
    "* Assigning Values "
   ]
  },
  {
   "cell_type": "code",
   "execution_count": 5,
   "id": "4c9067e9-827e-48a7-ad96-d158a82369ba",
   "metadata": {},
   "outputs": [
    {
     "name": "stdout",
     "output_type": "stream",
     "text": [
      "5\n",
      "Alaric\n",
      "2.6\n"
     ]
    }
   ],
   "source": [
    "a= 5          #a is a type of int\n",
    "b= \"Alaric\"     #b is a type of string\n",
    "c= 2.6        #c is a type of float\n",
    "print(a)\n",
    "print(b)\n",
    "print(c)"
   ]
  },
  {
   "cell_type": "markdown",
   "id": "abfd191d-af37-4f76-a692-37fab5251ee9",
   "metadata": {},
   "source": [
    "### 2. Casting:\n",
    "*  To convert the variable data type into another data type in order to the operation required."
   ]
  },
  {
   "cell_type": "code",
   "execution_count": 7,
   "id": "75596de0-5cc5-47be-9b24-3743e8fc4b8d",
   "metadata": {},
   "outputs": [
    {
     "name": "stdout",
     "output_type": "stream",
     "text": [
      "5\n",
      "5\n",
      "5.0\n"
     ]
    }
   ],
   "source": [
    "a= str(5)      #a will be '5'\n",
    "b= int(5)      #b will be 5\n",
    "c= float(5)    #c will be 5.0 \n",
    "print(a)\n",
    "print(b)\n",
    "print(c)"
   ]
  },
  {
   "cell_type": "markdown",
   "id": "b5a29517-83de-45c5-bd46-7120fb011732",
   "metadata": {},
   "source": [
    "### 3. Type of variable:\n",
    "* To get the type of variable use   *type()*   function"
   ]
  },
  {
   "cell_type": "code",
   "execution_count": 9,
   "id": "3f84f470-10cc-44e7-8da9-d7aa6c3eb4df",
   "metadata": {},
   "outputs": [
    {
     "name": "stdout",
     "output_type": "stream",
     "text": [
      "<class 'int'>\n",
      "<class 'str'>\n",
      "<class 'float'>\n"
     ]
    }
   ],
   "source": [
    "a= 5          #a is a type of int\n",
    "b= \"Alaric\"     #b is a type of string\n",
    "c= 2.6        #c is a type of string\n",
    "print(type(a))\n",
    "print(type(b))\n",
    "print(type(c))"
   ]
  },
  {
   "cell_type": "markdown",
   "id": "d8cc033f-40c0-4be5-9795-03c7032bff84",
   "metadata": {},
   "source": [
    "### 4. Quotes- \" \", ' '\n",
    "* String variables can be declared either by using single or double quotes."
   ]
  },
  {
   "cell_type": "code",
   "execution_count": 10,
   "id": "9e47c17f-fcf3-44da-8822-ac9ae44b97ce",
   "metadata": {},
   "outputs": [
    {
     "name": "stdout",
     "output_type": "stream",
     "text": [
      "Hello\n",
      "Alaric!\n"
     ]
    }
   ],
   "source": [
    "a=\"Hello\"\n",
    "b='Alaric!'\n",
    "print(a)\n",
    "print(b)"
   ]
  },
  {
   "cell_type": "markdown",
   "id": "62e39e76-3e8e-471c-bd9d-ebb796681c14",
   "metadata": {},
   "source": [
    "### 5. Case sensitive:\n",
    "* Program that is differentiating between capital and lower-case letters."
   ]
  },
  {
   "cell_type": "code",
   "execution_count": 11,
   "id": "3d7c1bfd-630e-4dba-a018-8080b091a8a4",
   "metadata": {},
   "outputs": [
    {
     "name": "stdout",
     "output_type": "stream",
     "text": [
      " Hello\n",
      " Alaric\n"
     ]
    }
   ],
   "source": [
    "a = \" Hello\"\n",
    "A = \" Alaric\"\n",
    "print(a)\n",
    "print(A)"
   ]
  },
  {
   "cell_type": "markdown",
   "id": "b48b2cdd-486b-4099-9759-8d95b296d995",
   "metadata": {},
   "source": [
    "### 6. Variable names:\n",
    "* Valid variable names\n",
    "* Variable names should start with letter, either upper case or lower case or with under score(_)\n",
    "* Variable names should not start with numbers.\n",
    "* Variables should contain only letters,numbers and under score. No other special charachters are included.\n",
    "* Variable names are case sensitive- RAM,Ram,ram are different"
   ]
  },
  {
   "cell_type": "code",
   "execution_count": 12,
   "id": "e0ac618b-800a-4334-a02f-22622e72edb3",
   "metadata": {},
   "outputs": [],
   "source": [
    "# Valid variable names \n",
    "myvar = \"Alaric\"\n",
    "my_var = \"Alaric\"\n",
    "_my_var = \"Alaric\"\n",
    "myVar = \"Alaric\"\n",
    "MYVAR = \"Alaric\"\n",
    "myvar2 = \"Alaric\""
   ]
  },
  {
   "cell_type": "markdown",
   "id": "9006730a-b05d-4235-9866-9cda577900ad",
   "metadata": {},
   "source": [
    "#### Multi word variable names:\n",
    "Variable names with more than one word can be difficult to read.\n",
    "\n",
    "There are several techniques you can use to make them more readable:\n",
    "1. Camel case\n",
    "2. Pascal case\n",
    "3. Snake case"
   ]
  },
  {
   "cell_type": "code",
   "execution_count": 13,
   "id": "57427191-0fc9-493d-a5f7-db8e9c00ddc9",
   "metadata": {},
   "outputs": [
    {
     "name": "stdout",
     "output_type": "stream",
     "text": [
      "Alaric\n"
     ]
    }
   ],
   "source": [
    "#Camel case\n",
    "myVariableName = \"Alaric\"\n",
    "print(myVariableName)"
   ]
  },
  {
   "cell_type": "code",
   "execution_count": 14,
   "id": "90cc6344-1b0b-43de-9445-fc54edf67fe8",
   "metadata": {},
   "outputs": [
    {
     "name": "stdout",
     "output_type": "stream",
     "text": [
      "Alaric\n"
     ]
    }
   ],
   "source": [
    "#Pascal case\n",
    "MyVariableName = \"Alaric\"\n",
    "print(MyVariableName)"
   ]
  },
  {
   "cell_type": "code",
   "execution_count": 15,
   "id": "f39ff08a-5fbc-4a47-bbee-d82fd0a05145",
   "metadata": {},
   "outputs": [
    {
     "name": "stdout",
     "output_type": "stream",
     "text": [
      "Alaric\n"
     ]
    }
   ],
   "source": [
    "#Snake case\n",
    "my_variable_name = \"Alaric\"\n",
    "print(my_variable_name)"
   ]
  },
  {
   "cell_type": "markdown",
   "id": "9c9e7eb6-f454-42a2-902b-ea37d50a7776",
   "metadata": {},
   "source": [
    "### 7. Assigning multiple values:\n",
    "\n",
    "#### 7a. Multiple values to multiple variables:-"
   ]
  },
  {
   "cell_type": "code",
   "execution_count": 16,
   "id": "8cb72d44-4d71-436c-860c-2a7a8712b8b0",
   "metadata": {},
   "outputs": [
    {
     "name": "stdout",
     "output_type": "stream",
     "text": [
      "Orange\n",
      "mango\n",
      "apple\n"
     ]
    }
   ],
   "source": [
    "a,b,c=\"Orange\",\"mango\",\"apple\"\n",
    "print(a)\n",
    "print(b)\n",
    "print(c)"
   ]
  },
  {
   "cell_type": "markdown",
   "id": "d83f8847-0571-493a-90cb-20859f285c75",
   "metadata": {},
   "source": [
    "#### 7b. One value to multiple variables:-"
   ]
  },
  {
   "cell_type": "code",
   "execution_count": 17,
   "id": "d7653a5b-72ab-4c7c-a21e-230f387fbc04",
   "metadata": {},
   "outputs": [
    {
     "name": "stdout",
     "output_type": "stream",
     "text": [
      "apple\n",
      "apple\n",
      "apple\n"
     ]
    }
   ],
   "source": [
    "a=b=c=\"apple\"\n",
    "print(a)\n",
    "print(b)\n",
    "print(c)"
   ]
  },
  {
   "cell_type": "markdown",
   "id": "b87d01dd-f7e3-4fca-be7e-867c0a60e0c0",
   "metadata": {},
   "source": [
    "#### 7c. Unpacking collection:-"
   ]
  },
  {
   "cell_type": "code",
   "execution_count": 18,
   "id": "ea626320-e865-4e73-a384-ba84207db071",
   "metadata": {},
   "outputs": [
    {
     "name": "stdout",
     "output_type": "stream",
     "text": [
      "apple\n",
      "mango\n",
      "cherry\n",
      "orange\n"
     ]
    }
   ],
   "source": [
    "fruits=[\"apple\",\"mango\",\"cherry\",\"orange\"]\n",
    "a,b,c,d=fruits\n",
    "print(a)\n",
    "print(b)\n",
    "print(c)\n",
    "print(d)"
   ]
  },
  {
   "cell_type": "markdown",
   "id": "a7170a3d-a5a2-4f06-a8e5-f96f30249cee",
   "metadata": {},
   "source": [
    "### 8. Output variables:\n",
    "* In python print is defined as output variable"
   ]
  },
  {
   "cell_type": "code",
   "execution_count": 19,
   "id": "82c739d0-e7ca-4ed2-a11e-0e9e06d3fafa",
   "metadata": {},
   "outputs": [
    {
     "name": "stdout",
     "output_type": "stream",
     "text": [
      "Human AI\n"
     ]
    }
   ],
   "source": [
    "a= \"AI\"\n",
    "print(\"Human\" + \" \"+a)"
   ]
  },
  {
   "cell_type": "code",
   "execution_count": 20,
   "id": "f64bd055-fea6-4026-a8f1-5b1b2f10b126",
   "metadata": {},
   "outputs": [
    {
     "name": "stdout",
     "output_type": "stream",
     "text": [
      "HumanAI\n"
     ]
    }
   ],
   "source": [
    "a= \"Human\"\n",
    "b= \"AI\"\n",
    "c= a+b\n",
    "print(c)"
   ]
  },
  {
   "cell_type": "code",
   "execution_count": 21,
   "id": "e514e1c6-847c-440b-88c3-4d3f8808ce42",
   "metadata": {},
   "outputs": [
    {
     "name": "stdout",
     "output_type": "stream",
     "text": [
      "Human AI\n"
     ]
    }
   ],
   "source": [
    "c= a+\" \" +b\n",
    "print(c)"
   ]
  },
  {
   "cell_type": "markdown",
   "id": "d7a2405f-7362-41c9-ba6a-45f3c8d2d0b8",
   "metadata": {},
   "source": [
    "### 9. Global variables:\n",
    "* Variables that are created outside of the function."
   ]
  },
  {
   "cell_type": "code",
   "execution_count": 22,
   "id": "074d6635-26c7-4ef7-ba61-31b1da7f68af",
   "metadata": {},
   "outputs": [
    {
     "name": "stdout",
     "output_type": "stream",
     "text": [
      "Human AI\n"
     ]
    }
   ],
   "source": [
    "x = \"AI\"\n",
    "\n",
    "def myfunc():\n",
    "  print(\"Human \" + x)\n",
    "\n",
    "myfunc()"
   ]
  },
  {
   "cell_type": "code",
   "execution_count": 23,
   "id": "c01e5d38-2ab9-4e76-a129-651127d509c1",
   "metadata": {},
   "outputs": [
    {
     "name": "stdout",
     "output_type": "stream",
     "text": [
      "Human Being\n",
      "HumanAI\n"
     ]
    }
   ],
   "source": [
    "# Variable inside the function\n",
    "x = \"AI\"\n",
    "\n",
    "def myfunc():\n",
    "  x = \"Being\"\n",
    "  print(\"Human \" + x)\n",
    "\n",
    "myfunc()\n",
    "\n",
    "print(\"Human\" + x)"
   ]
  },
  {
   "cell_type": "code",
   "execution_count": null,
   "id": "c0fc5f3a-3f66-4982-9097-e107fbd2174e",
   "metadata": {},
   "outputs": [],
   "source": []
  }
 ],
 "metadata": {
  "kernelspec": {
   "display_name": "Python 3 (ipykernel)",
   "language": "python",
   "name": "python3"
  },
  "language_info": {
   "codemirror_mode": {
    "name": "ipython",
    "version": 3
   },
   "file_extension": ".py",
   "mimetype": "text/x-python",
   "name": "python",
   "nbconvert_exporter": "python",
   "pygments_lexer": "ipython3",
   "version": "3.12.7"
  }
 },
 "nbformat": 4,
 "nbformat_minor": 5
}
